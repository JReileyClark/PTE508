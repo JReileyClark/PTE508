{
 "cells": [
  {
   "cell_type": "code",
   "execution_count": 34,
   "metadata": {
    "collapsed": false
   },
   "outputs": [
    {
     "data": {
      "text/html": [
       "<script>requirejs.config({paths: { 'plotly': ['https://cdn.plot.ly/plotly-latest.min']},});if(!window.Plotly) {{require(['plotly'],function(plotly) {window.Plotly=plotly;});}}</script>"
      ],
      "text/plain": [
       "<script>requirejs.config({paths: { 'plotly': ['https://cdn.plot.ly/plotly-latest.min']},});if(!window.Plotly) {{require(['plotly'],function(plotly) {window.Plotly=plotly;});}}</script>"
      ]
     },
     "execution_count": 0,
     "metadata": {},
     "output_type": "execute_result"
    }
   ],
   "source": [
    "import numpy as np\n",
    "import pandas as pd\n",
    "import scipy.spatial as sp\n",
    "import matplotlib as mpl\n",
    "from matplotlib import pyplot as plt, gridspec as gs\n",
    "plt.style.use('fivethirtyeight')\n",
    "from mpl_toolkits.mplot3d import Axes3D\n",
    "import plotly\n",
    "import plotly.plotly as py\n",
    "import plotly.graph_objs as go\n",
    "plotly.offline.init_notebook_mode(connected=True)"
   ]
  },
  {
   "cell_type": "code",
   "execution_count": 8,
   "metadata": {
    "collapsed": false
   },
   "outputs": [],
   "source": [
    "#on laptop use the following link /Volumes/SanDisk/Dsurveys for KDTree.xlsx\n",
    "#surveys = pd.read_excel('/Volumes/SanDisk/Dsurveys for KDTree.xlsx',header=0)\n",
    "\n",
    "# on desktop, use the link below\n",
    "surveys = pd.read_excel('//BUFFALO/Download/USC SCHOOL STUFF/Dsurveys for KDTree.xlsx',header=0)\n",
    "\n",
    "#\\\\BUFFALO\\Download\\USC SCHOOL STUFF\\Dsurveys for KDTree.xlsx"
   ]
  },
  {
   "cell_type": "code",
   "execution_count": 84,
   "metadata": {
    "collapsed": false
   },
   "outputs": [
    {
     "data": {
      "text/plain": [
       "0       -118.891381\n1       -118.891380\n2       -118.891380\n3       -118.891381\n4       -118.891382\n5       -118.891383\n6       -118.891383\n7       -118.891383\n8       -118.891383\n9       -118.891382\n10      -118.891382\n11      -118.891381\n12      -118.891379\n13      -118.891378\n14      -118.891374\n15      -118.891369\n16      -118.891362\n17      -118.891353\n18      -118.891343\n19      -118.891333\n20      -118.891322\n21      -118.891310\n22      -118.891296\n23      -118.891280\n24      -118.891262\n25      -118.891245\n26      -118.891225\n27      -118.891204\n28      -118.891181\n29      -118.891158\n            ...    \n68505   -118.889078\n68506   -118.889064\n68507   -118.889051\n68508   -118.889037\n68509   -118.889023\n68510   -118.889009\n68511   -118.888995\n68512   -118.888981\n68513   -118.888968\n68514   -118.888954\n68515   -118.888940\n68516   -118.888926\n68517   -118.888912\n68518   -118.888898\n68519   -118.888884\n68520   -118.888871\n68521   -118.888857\n68522   -118.888843\n68523   -118.888830\n68524   -118.888816\n68525   -118.888802\n68526   -118.888789\n68527   -118.888776\n68528   -118.888763\n68529   -118.888750\n68530   -118.888736\n68531   -118.888723\n68532   -118.888709\n68533   -118.888706\n68534   -118.888679\nName: Long, dtype: float64"
      ]
     },
     "execution_count": 84,
     "metadata": {},
     "output_type": "execute_result"
    }
   ],
   "source": [
    "surveys.describe()\n",
    "surveys.head()\n",
    "surveys['Long']"
   ]
  },
  {
   "cell_type": "code",
   "execution_count": 85,
   "metadata": {
    "collapsed": false
   },
   "outputs": [
    {
     "data": {
      "text/plain": [
       "'file://C:\\\\Users\\\\Bleep\\\\PycharmProjects\\\\PTE508\\\\testplot.html'"
      ]
     },
     "execution_count": 85,
     "metadata": {},
     "output_type": "execute_result"
    }
   ],
   "source": [
    "d101 = surveys[(surveys['Well_ID'] == 'D-203') & (surveys['API_Extension'] == 0)][['X','Y','TVD']]\n",
    "d101.head()\n",
    "kddata = surveys[(surveys['Well_ID'] != 'D-203')][['Well_ID','X','Y','Lat','Long','TVD']]\n",
    "#fig = plt.figure()\n",
    "#ax1 = fig.add_subplot(111,projection='3d')\n",
    "#ax1.scatter(kddata['X'],kddata['Y'],-kddata['TVD'], marker='o',s=0.1)\n",
    "#ax1.scatter(d101['X'],d101['Y'],-d101['TVD'])\n",
    "#plt.show()\n",
    "\n",
    "trace1 = go.Scatter3d(x=kddata['Lat']*10000,y=kddata['Long']*10000,z=-kddata['TVD'],mode='markers', marker=dict(size=1), text=kddata['Well_ID'])\n",
    "layout = go.Layout()\n",
    "data = [trace1]\n",
    "fig = go.Figure(data=data,layout=layout)\n",
    "plotly.offline.plot(fig,filename='testplot.html')"
   ]
  },
  {
   "cell_type": "code",
   "execution_count": 12,
   "metadata": {
    "collapsed": false
   },
   "outputs": [],
   "source": [
    "tree = sp.KDTree(kddata)"
   ]
  },
  {
   "cell_type": "code",
   "execution_count": 13,
   "metadata": {
    "collapsed": true
   },
   "outputs": [],
   "source": [
    "dist, ind = tree.query(d101, 3)"
   ]
  },
  {
   "cell_type": "code",
   "execution_count": 28,
   "metadata": {
    "collapsed": false
   },
   "outputs": [
    {
     "ename": "SyntaxError",
     "evalue": "invalid syntax (<ipython-input-28-b0e83deaf41c>, line 3)",
     "traceback": [
      "\u001b[1;36m  File \u001b[1;32m\"<ipython-input-28-b0e83deaf41c>\"\u001b[1;36m, line \u001b[1;32m3\u001b[0m\n\u001b[1;33m    kddata.ix[*ind]\u001b[0m\n\u001b[1;37m              ^\u001b[0m\n\u001b[1;31mSyntaxError\u001b[0m\u001b[1;31m:\u001b[0m invalid syntax\n"
     ],
     "output_type": "error"
    }
   ],
   "source": [
    "#print(dist)\n",
    "ind\n",
    "kddata.ix[ind.\n",
    "for row in ind:\n",
    "    print(surveys.ix[row])"
   ]
  },
  {
   "cell_type": "code",
   "execution_count": null,
   "metadata": {
    "collapsed": true
   },
   "outputs": [],
   "source": [
    ""
   ]
  }
 ],
 "metadata": {
  "kernelspec": {
   "display_name": "Python [conda root]",
   "language": "python",
   "name": "conda-root-py"
  },
  "language_info": {
   "codemirror_mode": {
    "name": "ipython",
    "version": 3.0
   },
   "file_extension": ".py",
   "mimetype": "text/x-python",
   "name": "python",
   "nbconvert_exporter": "python",
   "pygments_lexer": "ipython3",
   "version": "3.5.2"
  }
 },
 "nbformat": 4,
 "nbformat_minor": 0
}